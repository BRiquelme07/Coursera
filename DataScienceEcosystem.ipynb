{
 "cells": [
  {
   "cell_type": "markdown",
   "id": "12f63e24-9860-47ee-b886-29281a5ebb13",
   "metadata": {},
   "source": [
    "# Data Science Tools and Ecosystem"
   ]
  },
  {
   "cell_type": "markdown",
   "id": "af216a14-c51c-41c9-b804-7eaef1427b92",
   "metadata": {},
   "source": [
    "En este cuaderno, se resumen las herramientas y ecosistemas de ciencia de datos."
   ]
  },
  {
   "cell_type": "markdown",
   "id": "d6603977-0d18-4a5f-a049-e6434eb6f342",
   "metadata": {},
   "source": [
    "**Objetivos:**\n",
    "* Listar lenguajes populares para Ciencia de Datos\n",
    "* Listar bibliotecas populares para Ciencia de Datos\n",
    "* tabla de herramientas de ciencia de datos\n"
   ]
  },
  {
   "cell_type": "markdown",
   "id": "3001f8a3-5af1-471f-b13a-fde265c1828d",
   "metadata": {},
   "source": [
    "1. Python\n",
    "2. RStudio\n",
    "3. Java"
   ]
  },
  {
   "cell_type": "markdown",
   "id": "77dcf38a-9b87-46ba-82fe-b1352a2538bc",
   "metadata": {},
   "source": [
    "1. Matplotlib\n",
    "2. Seaborn\n",
    "3. Pandas"
   ]
  },
  {
   "cell_type": "markdown",
   "id": "c000fb53-14f9-4852-8ad7-dcbd17bf7d00",
   "metadata": {},
   "source": [
    "|Herramientas de Ciencia de Datos|\n",
    "|-|\n",
    "|Jupyter Notebook|\n",
    "|RStudio|\n",
    "|Apache Zeppelin|"
   ]
  },
  {
   "cell_type": "markdown",
   "id": "ce281f69-c332-4ee0-9a91-aa59b3a99b83",
   "metadata": {},
   "source": [
    "### A continuación, se presentan algunos ejemplos de evaluación de expresiones aritméticas en Python\n"
   ]
  },
  {
   "cell_type": "code",
   "execution_count": 7,
   "id": "4000255d-a4a9-4fdf-ae7e-ea450ea061f0",
   "metadata": {},
   "outputs": [
    {
     "data": {
      "text/plain": [
       "4"
      ]
     },
     "execution_count": 7,
     "metadata": {},
     "output_type": "execute_result"
    }
   ],
   "source": [
    "2+2"
   ]
  },
  {
   "cell_type": "code",
   "execution_count": 9,
   "id": "2f99796d-8b4e-40db-a3b3-f40215a81df9",
   "metadata": {},
   "outputs": [
    {
     "data": {
      "text/plain": [
       "4"
      ]
     },
     "execution_count": 9,
     "metadata": {},
     "output_type": "execute_result"
    }
   ],
   "source": [
    "2*2"
   ]
  },
  {
   "cell_type": "code",
   "execution_count": 11,
   "id": "739c0d27-12b2-4485-975e-a66eefe35162",
   "metadata": {},
   "outputs": [
    {
     "data": {
      "text/plain": [
       "4.0"
      ]
     },
     "execution_count": 11,
     "metadata": {},
     "output_type": "execute_result"
    }
   ],
   "source": [
    "2/0.5"
   ]
  },
  {
   "cell_type": "code",
   "execution_count": 13,
   "id": "4f64a6c2-ccab-49e9-b6e4-1db082c8d379",
   "metadata": {},
   "outputs": [
    {
     "data": {
      "text/plain": [
       "17"
      ]
     },
     "execution_count": 13,
     "metadata": {},
     "output_type": "execute_result"
    }
   ],
   "source": [
    "#Esta es una expresión aritmética simple para multiplicar y luego sumar enteros\n",
    "(3*4)+5"
   ]
  },
  {
   "cell_type": "code",
   "execution_count": 17,
   "id": "59f47e25-e0b5-493a-8caf-37ca4d07e951",
   "metadata": {},
   "outputs": [
    {
     "data": {
      "text/plain": [
       "3.3333333333333335"
      ]
     },
     "execution_count": 17,
     "metadata": {},
     "output_type": "execute_result"
    }
   ],
   "source": [
    "#Esto convertirá 200 minutos a horas dividiendo por 60\n",
    "200/60"
   ]
  },
  {
   "cell_type": "markdown",
   "id": "9f2bfac3-de12-4ca9-a02f-26fd6ad81ac2",
   "metadata": {},
   "source": [
    "## Autor\n",
    "Benjamín"
   ]
  }
 ],
 "metadata": {
  "kernelspec": {
   "display_name": "Python 3 (ipykernel)",
   "language": "python",
   "name": "python3"
  },
  "language_info": {
   "codemirror_mode": {
    "name": "ipython",
    "version": 3
   },
   "file_extension": ".py",
   "mimetype": "text/x-python",
   "name": "python",
   "nbconvert_exporter": "python",
   "pygments_lexer": "ipython3",
   "version": "3.12.4"
  }
 },
 "nbformat": 4,
 "nbformat_minor": 5
}
